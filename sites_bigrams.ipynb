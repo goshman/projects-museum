{
 "cells": [
  {
   "cell_type": "code",
   "execution_count": 7,
   "metadata": {},
   "outputs": [],
   "source": [
    "import pymorphy2\n",
    "import os\n",
    "import re\n",
    "import string\n",
    "\n",
    "from bs4 import BeautifulSoup\n",
    "from nltk import ngrams\n",
    "from nltk.corpus import stopwords"
   ]
  },
  {
   "cell_type": "code",
   "execution_count": 8,
   "metadata": {},
   "outputs": [],
   "source": [
    "morph = pymorphy2.MorphAnalyzer()"
   ]
  },
  {
   "cell_type": "code",
   "execution_count": 9,
   "metadata": {},
   "outputs": [],
   "source": [
    "# p = morph.parse('викинги')[0]\n",
    "# p.normal_form"
   ]
  },
  {
   "cell_type": "code",
   "execution_count": 10,
   "metadata": {},
   "outputs": [],
   "source": [
    "raw_sites_directory = 'sites'\n",
    "parsed_sites_directory = 'parsed_sites_bigrams'\n",
    "\n",
    "punctuation = string.punctuation+\"«\"+\"»\"+\"”\"+\"“\"+\"\\ufeff\"\n",
    "translation_table = str.maketrans({key: ' ' for key in punctuation})\n",
    "russian_stopwords = stopwords.words('russian')\n",
    "n = 2\n",
    "\n",
    "def has_cyrillic(text):\n",
    "    return bool(re.search('[а-яА-Я]', text))\n",
    "\n",
    "\n",
    "# def tokenize(raw):\n",
    "#     return [\n",
    "#         word\n",
    "#         for word in raw.strip().lower().translate(translation_table).split(' ')\n",
    "#         if raw\n",
    "#         and isinstance(raw, str)\n",
    "#         and word not in russian_stopwords\n",
    "#         and len(word) > 1\n",
    "#         and has_cyrillic(word)\n",
    "#     ]\n",
    "\n",
    "def tokenize(raw):\n",
    "    return ' '.join([\n",
    "        word\n",
    "        for word in raw.strip().lower().translate(translation_table).split(' ')\n",
    "        if raw\n",
    "        and isinstance(raw, str)\n",
    "        and word not in russian_stopwords\n",
    "        and len(word) > 1\n",
    "        and has_cyrillic(word)\n",
    "    ])\n",
    "\n",
    "def normalize(word):\n",
    "    return morph.parse(word.lower().strip())[0].normal_form \n",
    "\n",
    "\n",
    "def cleanme(html):\n",
    "    soup = BeautifulSoup(html)\n",
    "    return soup.text"
   ]
  },
  {
   "cell_type": "code",
   "execution_count": 11,
   "metadata": {},
   "outputs": [],
   "source": [
    "def site_to_bow(fname):\n",
    "    if not fname.startswith('http'):\n",
    "        return\n",
    "    path = '{}/{}'.format(raw_sites_directory, fname)\n",
    "    fout = '{}/{}'.format(parsed_sites_directory, fname)\n",
    "    with open(path) as fp:\n",
    "        try:\n",
    "            fdata = fp.read()\n",
    "        except UnicodeDecodeError:\n",
    "            print(fname)\n",
    "            raise\n",
    "    clean = ngrams(tokenize(cleanme(fdata)).split(), n)\n",
    "    words = [str(sorted((normalize(a), normalize(b)),)) for a, b in clean]\n",
    "    with open(fout, 'w') as fw:\n",
    "        fw.write('\\n'.join(words))"
   ]
  },
  {
   "cell_type": "code",
   "execution_count": 12,
   "metadata": {},
   "outputs": [
    {
     "name": "stderr",
     "output_type": "stream",
     "text": [
      "/Users/chikachoff/virtualenvs/venv3/lib/python3.6/site-packages/ipykernel_launcher.py:13: DeprecationWarning: generator 'ngrams' raised StopIteration\n",
      "  del sys.path[0]\n"
     ]
    }
   ],
   "source": [
    "if not os.path.exists(parsed_sites_directory):\n",
    "    os.makedirs(parsed_sites_directory)\n",
    "\n",
    "ready = {ff_name for ff_name in os.listdir(parsed_sites_directory)}\n",
    "\n",
    "for fname in os.listdir(raw_sites_directory):\n",
    "    if fname in ready:\n",
    "        continue\n",
    "    site_to_bow(fname)"
   ]
  }
 ],
 "metadata": {
  "kernelspec": {
   "display_name": "Python 3",
   "language": "python",
   "name": "python3"
  },
  "language_info": {
   "codemirror_mode": {
    "name": "ipython",
    "version": 3
   },
   "file_extension": ".py",
   "mimetype": "text/x-python",
   "name": "python",
   "nbconvert_exporter": "python",
   "pygments_lexer": "ipython3",
   "version": "3.6.4"
  }
 },
 "nbformat": 4,
 "nbformat_minor": 2
}
